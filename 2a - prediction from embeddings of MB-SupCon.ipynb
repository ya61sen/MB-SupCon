{
 "cells": [
  {
   "cell_type": "code",
   "execution_count": 1,
   "id": "representative-failing",
   "metadata": {},
   "outputs": [],
   "source": [
    "import pandas as pd\n",
    "import numpy as np\n",
    "import matplotlib.pyplot as plt\n",
    "import os\n",
    "import math\n",
    "import re\n",
    "import sys\n",
    "\n",
    "# Self-defined functions\n",
    "from pred_utils import balanced_over_sampling"
   ]
  },
  {
   "cell_type": "code",
   "execution_count": 2,
   "id": "random-indonesia",
   "metadata": {},
   "outputs": [],
   "source": [
    "def prediction_embeddings_MB_SupCon(covariate, predict_method, l1_ratio=0.5, random_seed=123):\n",
    "    \n",
    "    \"\"\"\n",
    "    predict_method: {'logistic', 'elasticnet', 'svr', ...}\n",
    "    kwargs: arguments for corresponding methods\n",
    "    \"\"\"\n",
    "    \n",
    "    feat_gut_16s_train = pd.read_pickle('./feature_data/{}/train/feat_gut_16s_train.pkl'.format(covariate))\n",
    "    feat_metabolome_train = pd.read_pickle('./feature_data/{}/train/feat_metabolome_train.pkl'.format(covariate))\n",
    "    gut_16s_feat_subj_train = pd.read_pickle('./feature_data/{}/train/gut_16s_feat_subj_train.pkl'.format(covariate))\n",
    "    metabolome_feat_subj_train = pd.read_pickle('./feature_data/{}/train/metabolome_feat_subj_train.pkl'.format(covariate))\n",
    "\n",
    "    feat_gut_16s_val = pd.read_pickle('./feature_data/{}/val/feat_gut_16s_val.pkl'.format(covariate))\n",
    "    feat_metabolome_val = pd.read_pickle('./feature_data/{}/val/feat_metabolome_val.pkl'.format(covariate))\n",
    "    gut_16s_feat_subj_val = pd.read_pickle('./feature_data/{}/val/gut_16s_feat_subj_val.pkl'.format(covariate))\n",
    "    metabolome_feat_subj_val = pd.read_pickle('./feature_data/{}/val/metabolome_feat_subj_val.pkl'.format(covariate))\n",
    "    \n",
    "    feat_gut_16s_test = pd.read_pickle('./feature_data/{}/test/feat_gut_16s_test.pkl'.format(covariate))\n",
    "    feat_metabolome_test = pd.read_pickle('./feature_data/{}/test/feat_metabolome_test.pkl'.format(covariate))\n",
    "    gut_16s_feat_subj_test = pd.read_pickle('./feature_data/{}/test/gut_16s_feat_subj_test.pkl'.format(covariate))\n",
    "    metabolome_feat_subj_test = pd.read_pickle('./feature_data/{}/test/metabolome_feat_subj_test.pkl'.format(covariate))\n",
    "    \n",
    "    X_train_g = np.array(feat_gut_16s_train)\n",
    "    y_train_g = gut_16s_feat_subj_train.loc[:,covariate].values\n",
    "    X_val_g = np.array(feat_gut_16s_val)\n",
    "    y_val_g = gut_16s_feat_subj_val.loc[:,covariate].values\n",
    "    X_test_g = np.array(feat_gut_16s_test)\n",
    "    y_test_g = gut_16s_feat_subj_test.loc[:,covariate].values\n",
    "\n",
    "    X_train_m = np.array(feat_metabolome_train)\n",
    "    y_train_m = metabolome_feat_subj_train.loc[:,covariate].values\n",
    "    X_val_m = np.array(feat_metabolome_val)\n",
    "    y_val_m = metabolome_feat_subj_val.loc[:,covariate].values\n",
    "    X_test_m = np.array(feat_metabolome_test)\n",
    "    y_test_m = metabolome_feat_subj_test.loc[:,covariate].values\n",
    "    \n",
    "    X_balanced_train_g, y_balanced_train_g = balanced_over_sampling(X_train_g, y_train_g)\n",
    "    X_balanced_train_m, y_balanced_train_m = balanced_over_sampling(X_train_m, y_train_m)\n",
    "    \n",
    "    if predict_method == 'logistic':\n",
    "        from sklearn.linear_model import LogisticRegression\n",
    "        logi_reg_g = LogisticRegression(random_state=random_seed, max_iter=1000, penalty='elasticnet', \n",
    "                                        solver='saga', l1_ratio=l1_ratio)\n",
    "        logi_reg_g.fit(X_balanced_train_g, y_balanced_train_g)\n",
    "        \n",
    "        pred_value_g_val = logi_reg_g.predict(X_val_g)\n",
    "        pred_prob_g_val = logi_reg_g.predict_proba(X_val_g)\n",
    "        accuracy_g_val = logi_reg_g.score(X_val_g, y_val_g)\n",
    "        \n",
    "        pred_value_g_test = logi_reg_g.predict(X_test_g)\n",
    "        pred_prob_g_test = logi_reg_g.predict_proba(X_test_g)\n",
    "        accuracy_g_test = logi_reg_g.score(X_test_g, y_test_g)\n",
    "        \n",
    "        logi_reg_m = LogisticRegression(random_state=random_seed, max_iter=1000, penalty='elasticnet', \n",
    "                                        solver='saga', l1_ratio=l1_ratio)\n",
    "        logi_reg_m.fit(X_balanced_train_m, y_balanced_train_m)\n",
    "        \n",
    "        pred_value_m_val = logi_reg_m.predict(X_val_m)\n",
    "        pred_prob_m_val = logi_reg_m.predict_proba(X_val_m)\n",
    "        accuracy_m_val = logi_reg_m.score(X_val_m, y_val_m)\n",
    "        \n",
    "        pred_value_m_test = logi_reg_m.predict(X_test_m)\n",
    "        pred_prob_m_test = logi_reg_m.predict_proba(X_test_m)\n",
    "        accuracy_m_test = logi_reg_m.score(X_test_m, y_test_m)\n",
    "        return (pred_value_g_val, pred_prob_g_val, accuracy_g_val), (pred_value_m_val, pred_prob_m_val, accuracy_m_val),\\\n",
    "               (pred_value_g_test, pred_prob_g_test, accuracy_g_test), (pred_value_m_test, pred_prob_m_test, accuracy_m_test)\n",
    "    \n",
    "    elif predict_method == 'elasticnet':\n",
    "        pass\n",
    "    "
   ]
  },
  {
   "cell_type": "markdown",
   "id": "young-breast",
   "metadata": {},
   "source": [
    "## Prediction for MB-SupCon with categorical covariates"
   ]
  },
  {
   "cell_type": "code",
   "execution_count": 3,
   "id": "eastern-object",
   "metadata": {},
   "outputs": [
    {
     "name": "stdout",
     "output_type": "stream",
     "text": [
      "Validation:\n",
      "Prediction accuracy for microbiome embedding (IR_IS_classification) = 84.15%\n",
      "Prediction accuracy for metabolome embedding (IR_IS_classification) = 96.34%\n",
      "\n",
      "Testing:\n",
      "Prediction accuracy for microbiome embedding (IR_IS_classification) = 79.52%\n",
      "Prediction accuracy for metabolome embedding (IR_IS_classification) = 93.98%\n"
     ]
    }
   ],
   "source": [
    "predict_iris = prediction_embeddings_MB_SupCon(covariate='IR_IS_classification', predict_method='logistic')\n",
    "print('Validation:\\nPrediction accuracy for microbiome embedding ({0}) = {1:.2%}\\n'\n",
    "      'Prediction accuracy for metabolome embedding ({0}) = {2:.2%}\\n\\n'\n",
    "      'Testing:\\nPrediction accuracy for microbiome embedding ({0}) = {3:.2%}\\n'\n",
    "      'Prediction accuracy for metabolome embedding ({0}) = {4:.2%}'.\\\n",
    "      format('IR_IS_classification', predict_iris[0][2], predict_iris[1][2], predict_iris[2][2], predict_iris[3][2]))"
   ]
  },
  {
   "cell_type": "code",
   "execution_count": 4,
   "id": "amended-coast",
   "metadata": {},
   "outputs": [
    {
     "name": "stdout",
     "output_type": "stream",
     "text": [
      "Validation:\n",
      "Prediction accuracy for microbiome embedding (Sex) = 83.33%\n",
      "Prediction accuracy for metabolome embedding (Sex) = 98.15%\n",
      "\n",
      "Testing:\n",
      "Prediction accuracy for microbiome embedding (Sex) = 81.65%\n",
      "Prediction accuracy for metabolome embedding (Sex) = 98.17%\n"
     ]
    }
   ],
   "source": [
    "predict_sex = prediction_embeddings_MB_SupCon(covariate='Sex', predict_method='logistic')\n",
    "print('Validation:\\nPrediction accuracy for microbiome embedding ({0}) = {1:.2%}\\n'\n",
    "      'Prediction accuracy for metabolome embedding ({0}) = {2:.2%}\\n\\n'\n",
    "      'Testing:\\nPrediction accuracy for microbiome embedding ({0}) = {3:.2%}\\n'\n",
    "      'Prediction accuracy for metabolome embedding ({0}) = {4:.2%}'.\\\n",
    "      format('Sex', predict_sex[0][2], predict_sex[1][2], predict_sex[2][2], predict_sex[3][2]))"
   ]
  },
  {
   "cell_type": "code",
   "execution_count": 5,
   "id": "molecular-philip",
   "metadata": {},
   "outputs": [
    {
     "name": "stdout",
     "output_type": "stream",
     "text": [
      "Validation:\n",
      "Prediction accuracy for microbiome embedding (Race) = 72.90%\n",
      "Prediction accuracy for metabolome embedding (Race) = 94.39%\n",
      "\n",
      "Testing:\n",
      "Prediction accuracy for microbiome embedding (Race) = 77.98%\n",
      "Prediction accuracy for metabolome embedding (Race) = 97.25%\n"
     ]
    }
   ],
   "source": [
    "predict_race = prediction_embeddings_MB_SupCon(covariate='Race', predict_method='logistic')\n",
    "print('Validation:\\nPrediction accuracy for microbiome embedding ({0}) = {1:.2%}\\n'\n",
    "      'Prediction accuracy for metabolome embedding ({0}) = {2:.2%}\\n\\n'\n",
    "      'Testing:\\nPrediction accuracy for microbiome embedding ({0}) = {3:.2%}\\n'\n",
    "      'Prediction accuracy for metabolome embedding ({0}) = {4:.2%}'.\\\n",
    "      format('Race', predict_race[0][2], predict_race[1][2], predict_race[2][2], predict_race[3][2]))"
   ]
  },
  {
   "cell_type": "markdown",
   "id": "moral-deputy",
   "metadata": {},
   "source": [
    "## Prediction for MB-SupCon with continuous covariates"
   ]
  },
  {
   "cell_type": "code",
   "execution_count": null,
   "id": "concerned-signal",
   "metadata": {},
   "outputs": [],
   "source": []
  },
  {
   "cell_type": "code",
   "execution_count": null,
   "id": "numerical-mainland",
   "metadata": {},
   "outputs": [],
   "source": []
  }
 ],
 "metadata": {
  "kernelspec": {
   "display_name": "envir_MB-SupCon",
   "language": "python",
   "name": "envir_mb-supcon"
  },
  "language_info": {
   "codemirror_mode": {
    "name": "ipython",
    "version": 3
   },
   "file_extension": ".py",
   "mimetype": "text/x-python",
   "name": "python",
   "nbconvert_exporter": "python",
   "pygments_lexer": "ipython3",
   "version": "3.8.5"
  }
 },
 "nbformat": 4,
 "nbformat_minor": 5
}
