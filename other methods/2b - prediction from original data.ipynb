{
 "cells": [
  {
   "cell_type": "code",
   "execution_count": 1,
   "id": "popular-creator",
   "metadata": {},
   "outputs": [],
   "source": [
    "import pandas as pd\n",
    "import numpy as np\n",
    "import matplotlib.pyplot as plt\n",
    "import os\n",
    "import math\n",
    "import re\n",
    "import sys\n",
    "\n",
    "# Self-defined functions\n",
    "from pred_utils import balanced_over_sampling"
   ]
  },
  {
   "cell_type": "code",
   "execution_count": 2,
   "id": "tutorial-conference",
   "metadata": {
    "pycharm": {
     "is_executing": false
    }
   },
   "outputs": [],
   "source": [
    "gut_16s_df = pd.read_table(\"./data/gut_16s_abundance.txt\", index_col=0)\n",
    "metabolome_df = pd.read_table(\"./data/metabolome_abundance.txt\", index_col=0)\n",
    "metabolome_df = metabolome_df.drop(columns=['SubjectID', 'CollectionDate', 'CL1', 'CL2', 'CL3', 'CL4'])"
   ]
  },
  {
   "cell_type": "code",
   "execution_count": 3,
   "id": "continuous-storm",
   "metadata": {},
   "outputs": [],
   "source": [
    "from sklearn.preprocessing import StandardScaler\n",
    "gut_16s_df_array = StandardScaler().fit_transform(gut_16s_df)\n",
    "gut_16s_df = pd.DataFrame(gut_16s_df_array, index=gut_16s_df.index, columns=gut_16s_df.columns)\n",
    "\n",
    "metabolome_df_array = StandardScaler().fit_transform(metabolome_df)\n",
    "metabolome_df = pd.DataFrame(metabolome_df_array, index=metabolome_df.index, columns=metabolome_df.columns)"
   ]
  },
  {
   "cell_type": "code",
   "execution_count": 4,
   "id": "quick-monthly",
   "metadata": {},
   "outputs": [],
   "source": [
    "def prediction_original_data(covariate, predict_method, l1_ratio=0.5, max_iter=3000, random_seed=123):\n",
    "    \n",
    "    \"\"\"\n",
    "    predict_method: {'logistic', 'elasticnet', 'svr'}\n",
    "    kwargs: arguments for corresponding methods\n",
    "    \"\"\"\n",
    "    \n",
    "    gut_16s_feat_subj_train = pd.read_pickle('./feature_data/{}/train/gut_16s_feat_subj_train.pkl'.format(covariate))\n",
    "    metabolome_feat_subj_train = pd.read_pickle('./feature_data/{}/train/metabolome_feat_subj_train.pkl'.format(covariate))\n",
    "\n",
    "    gut_16s_feat_subj_val = pd.read_pickle('./feature_data/{}/val/gut_16s_feat_subj_val.pkl'.format(covariate))\n",
    "    metabolome_feat_subj_val = pd.read_pickle('./feature_data/{}/val/metabolome_feat_subj_val.pkl'.format(covariate))\n",
    "    \n",
    "    gut_16s_feat_subj_test = pd.read_pickle('./feature_data/{}/test/gut_16s_feat_subj_test.pkl'.format(covariate))\n",
    "    metabolome_feat_subj_test = pd.read_pickle('./feature_data/{}/test/metabolome_feat_subj_test.pkl'.format(covariate))\n",
    "    \n",
    "    indexes_train = gut_16s_feat_subj_train.index\n",
    "    indexes_val = gut_16s_feat_subj_val.index\n",
    "    indexes_test = gut_16s_feat_subj_test.index\n",
    "    \n",
    "    X_train_g = np.array(gut_16s_df.loc[indexes_train,:])\n",
    "    y_train_g = gut_16s_feat_subj_train.loc[:,covariate].values\n",
    "    X_val_g = np.array(gut_16s_df.loc[indexes_val,:])\n",
    "    y_val_g = gut_16s_feat_subj_val.loc[:,covariate].values\n",
    "    X_test_g = np.array(gut_16s_df.loc[indexes_test,:])\n",
    "    y_test_g = gut_16s_feat_subj_test.loc[:,covariate].values\n",
    "    \n",
    "    X_train_m = np.array(metabolome_df.loc[indexes_train,:])\n",
    "    y_train_m = metabolome_feat_subj_train.loc[:,covariate].values\n",
    "    X_val_m = np.array(metabolome_df.loc[indexes_val,:])\n",
    "    y_val_m = metabolome_feat_subj_val.loc[:,covariate].values\n",
    "    X_test_m = np.array(metabolome_df.loc[indexes_test,:])\n",
    "    y_test_m = metabolome_feat_subj_test.loc[:,covariate].values\n",
    "    \n",
    "    X_balanced_train_g, y_balanced_train_g = balanced_over_sampling(X_train_g, y_train_g)\n",
    "    X_balanced_train_m, y_balanced_train_m = balanced_over_sampling(X_train_m, y_train_m)\n",
    "    \n",
    "    if predict_method == 'logistic':\n",
    "        from sklearn.linear_model import LogisticRegression\n",
    "        logi_reg_g = LogisticRegression(random_state=random_seed, max_iter=max_iter, penalty='elasticnet', \n",
    "                                        solver='saga', l1_ratio=l1_ratio)\n",
    "        logi_reg_g.fit(X_balanced_train_g, y_balanced_train_g)\n",
    "        \n",
    "        pred_value_g_val = logi_reg_g.predict(X_val_g)\n",
    "        pred_prob_g_val = logi_reg_g.predict_proba(X_val_g)\n",
    "        accuracy_g_val = logi_reg_g.score(X_val_g, y_val_g)\n",
    "        \n",
    "        pred_value_g_test = logi_reg_g.predict(X_test_g)\n",
    "        pred_prob_g_test = logi_reg_g.predict_proba(X_test_g)\n",
    "        accuracy_g_test = logi_reg_g.score(X_test_g, y_test_g)\n",
    "        \n",
    "        logi_reg_m = LogisticRegression(random_state=random_seed, max_iter=max_iter, penalty='elasticnet', \n",
    "                                        solver='saga', l1_ratio=l1_ratio)\n",
    "        logi_reg_m.fit(X_balanced_train_m, y_balanced_train_m)\n",
    "        \n",
    "        pred_value_m_val = logi_reg_m.predict(X_val_m)\n",
    "        pred_prob_m_val = logi_reg_m.predict_proba(X_val_m)\n",
    "        accuracy_m_val = logi_reg_m.score(X_val_m, y_val_m)\n",
    "        \n",
    "        pred_value_m_test = logi_reg_m.predict(X_test_m)\n",
    "        pred_prob_m_test = logi_reg_m.predict_proba(X_test_m)\n",
    "        accuracy_m_test = logi_reg_m.score(X_test_m, y_test_m)\n",
    "        return (pred_value_g_val, pred_prob_g_val, accuracy_g_val), (pred_value_m_val, pred_prob_m_val, accuracy_m_val),\\\n",
    "            (pred_value_g_test, pred_prob_g_test, accuracy_g_test), (pred_value_m_test, pred_prob_m_test, accuracy_m_test)\n",
    "    \n",
    "    elif predict_method == 'elasticnet':\n",
    "        pass\n",
    "    "
   ]
  },
  {
   "cell_type": "markdown",
   "id": "exotic-cartoon",
   "metadata": {},
   "source": [
    "## Prediction from original data for categorical covariates"
   ]
  },
  {
   "cell_type": "code",
   "execution_count": 5,
   "id": "chronic-denver",
   "metadata": {},
   "outputs": [
    {
     "name": "stdout",
     "output_type": "stream",
     "text": [
      "Validation:\n",
      "Prediction accuracy for original microbiome data (IR_IS_classification) = 81.71%\n",
      "Prediction accuracy for original metabolome data (IR_IS_classification) = 98.78%\n",
      "\n",
      "Testing:\n",
      "Prediction accuracy for original microbiome data (IR_IS_classification) = 72.29%\n",
      "Prediction accuracy for original metabolome data (IR_IS_classification) = 93.98%\n"
     ]
    }
   ],
   "source": [
    "predict_original_iris = prediction_original_data(covariate='IR_IS_classification', predict_method='logistic',\n",
    "                                                max_iter=5000)\n",
    "print('Validation:\\nPrediction accuracy for original microbiome data ({0}) = {1:.2%}\\n'\n",
    "      'Prediction accuracy for original metabolome data ({0}) = {2:.2%}\\n\\n'\n",
    "      'Testing:\\nPrediction accuracy for original microbiome data ({0}) = {3:.2%}\\n'\n",
    "      'Prediction accuracy for original metabolome data ({0}) = {4:.2%}'.\\\n",
    "      format('IR_IS_classification', predict_original_iris[0][2], predict_original_iris[1][2],\n",
    "             predict_original_iris[2][2], predict_original_iris[3][2]))"
   ]
  },
  {
   "cell_type": "code",
   "execution_count": 6,
   "id": "floating-enzyme",
   "metadata": {},
   "outputs": [
    {
     "name": "stdout",
     "output_type": "stream",
     "text": [
      "Validation:\n",
      "Prediction accuracy for original microbiome data (Sex) = 63.89%\n",
      "Prediction accuracy for original metabolome data (Sex) = 97.22%\n",
      "\n",
      "Testing:\n",
      "Prediction accuracy for original microbiome data (Sex) = 66.97%\n",
      "Prediction accuracy for original metabolome data (Sex) = 99.08%\n"
     ]
    }
   ],
   "source": [
    "predict_original_sex = prediction_original_data(covariate='Sex', predict_method='logistic',\n",
    "                                                max_iter=5000)\n",
    "print('Validation:\\nPrediction accuracy for original microbiome data ({0}) = {1:.2%}\\n'\n",
    "      'Prediction accuracy for original metabolome data ({0}) = {2:.2%}\\n\\n'\n",
    "      'Testing:\\nPrediction accuracy for original microbiome data ({0}) = {3:.2%}\\n'\n",
    "      'Prediction accuracy for original metabolome data ({0}) = {4:.2%}'.\\\n",
    "      format('Sex', predict_original_sex[0][2], predict_original_sex[1][2],\n",
    "             predict_original_sex[2][2], predict_original_sex[3][2]))"
   ]
  },
  {
   "cell_type": "code",
   "execution_count": 7,
   "id": "turkish-caribbean",
   "metadata": {},
   "outputs": [
    {
     "name": "stdout",
     "output_type": "stream",
     "text": [
      "Validation:\n",
      "Prediction accuracy for original microbiome data (Race) = 57.94%\n",
      "Prediction accuracy for original metabolome data (Race) = 94.39%\n",
      "\n",
      "Testing:\n",
      "Prediction accuracy for original microbiome data (Race) = 66.97%\n",
      "Prediction accuracy for original metabolome data (Race) = 97.25%\n"
     ]
    }
   ],
   "source": [
    "predict_original_race = prediction_original_data(covariate='Race', predict_method='logistic',\n",
    "                                                max_iter=5000)\n",
    "print('Validation:\\nPrediction accuracy for original microbiome data ({0}) = {1:.2%}\\n'\n",
    "      'Prediction accuracy for original metabolome data ({0}) = {2:.2%}\\n\\n'\n",
    "      'Testing:\\nPrediction accuracy for original microbiome data ({0}) = {3:.2%}\\n'\n",
    "      'Prediction accuracy for original metabolome data ({0}) = {4:.2%}'.\\\n",
    "      format('Race', predict_original_race[0][2], predict_original_race[1][2],\n",
    "             predict_original_race[2][2], predict_original_race[3][2]))"
   ]
  },
  {
   "cell_type": "code",
   "execution_count": null,
   "id": "verbal-workplace",
   "metadata": {},
   "outputs": [],
   "source": []
  },
  {
   "cell_type": "code",
   "execution_count": null,
   "id": "prescribed-priest",
   "metadata": {},
   "outputs": [],
   "source": []
  },
  {
   "cell_type": "code",
   "execution_count": null,
   "id": "obvious-despite",
   "metadata": {},
   "outputs": [],
   "source": []
  }
 ],
 "metadata": {
  "kernelspec": {
   "display_name": "envir_MB-SupCon",
   "language": "python",
   "name": "envir_mb-supcon"
  },
  "language_info": {
   "codemirror_mode": {
    "name": "ipython",
    "version": 3
   },
   "file_extension": ".py",
   "mimetype": "text/x-python",
   "name": "python",
   "nbconvert_exporter": "python",
   "pygments_lexer": "ipython3",
   "version": "3.8.5"
  }
 },
 "nbformat": 4,
 "nbformat_minor": 5
}
