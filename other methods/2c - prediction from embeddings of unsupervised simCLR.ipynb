{
 "cells": [
  {
   "cell_type": "code",
   "execution_count": 17,
   "id": "representative-failing",
   "metadata": {},
   "outputs": [],
   "source": [
    "import pandas as pd\n",
    "import numpy as np\n",
    "import matplotlib.pyplot as plt\n",
    "import os\n",
    "import math\n",
    "import re\n",
    "import sys\n",
    "\n",
    "# Self-defined functions\n",
    "from pred_utils import balanced_over_sampling"
   ]
  },
  {
   "cell_type": "code",
   "execution_count": 23,
   "id": "3f090913",
   "metadata": {},
   "outputs": [],
   "source": [
    "def split_by_indexes(feat_g, feat_m, g_feat_subj, m_feat_subj, index):\n",
    "    feat_g_subset = feat_g.loc[index,:]\n",
    "    feat_m_subset = feat_m.loc[index,:]\n",
    "    g_feat_subj_subset = g_feat_subj.loc[index,:]\n",
    "    m_feat_subj_subset = m_feat_subj.loc[index,:]\n",
    "    return feat_g_subset, feat_m_subset, g_feat_subj_subset, m_feat_subj_subset"
   ]
  },
  {
   "cell_type": "code",
   "execution_count": 24,
   "id": "random-indonesia",
   "metadata": {},
   "outputs": [],
   "source": [
    "def prediction_embeddings_unsup_simCLR(covariate, predict_method, l1_ratio=0.5, random_seed=123):\n",
    "    \n",
    "    \"\"\"\n",
    "    predict_method: {'logistic', 'elasticnet', 'svr'}\n",
    "    kwargs: arguments for corresponding methods\n",
    "    \"\"\"\n",
    "    indexes_noukn = np.genfromtxt('./data/index/{}/indexes_noukn.txt'.format(covariate), dtype='str')\n",
    "    indexes_train = np.genfromtxt('./data/index/{}/indexes_train.txt'.format(covariate), dtype='str')\n",
    "    indexes_val = np.genfromtxt('./data/index/{}/indexes_val.txt'.format(covariate), dtype='str')\n",
    "    indexes_test = np.genfromtxt('./data/index/{}/indexes_test.txt'.format(covariate), dtype='str')\n",
    "    \n",
    "    feat_gut_16s_all = pd.read_pickle('./feature_data/simCLR/all/feat_gut_16s_all.pkl')\n",
    "    feat_metabolome_all = pd.read_pickle('./feature_data/simCLR/all/feat_metabolome_all.pkl')\n",
    "    gut_16s_feat_subj_all = pd.read_pickle('./feature_data/simCLR/all/gut_16s_feat_subj_all.pkl')\n",
    "    metabolome_feat_subj_all = pd.read_pickle('./feature_data/simCLR/all/metabolome_feat_subj_all.pkl')\n",
    "\n",
    "    feat_gut_16s_train, feat_metabolome_train, gut_16s_feat_subj_train, metabolome_feat_subj_train=\\\n",
    "        split_by_indexes(feat_gut_16s_all, feat_metabolome_all, gut_16s_feat_subj_all, metabolome_feat_subj_all, \n",
    "                         indexes_train)\n",
    "    feat_gut_16s_val, feat_metabolome_val, gut_16s_feat_subj_val, metabolome_feat_subj_val=\\\n",
    "        split_by_indexes(feat_gut_16s_all, feat_metabolome_all, gut_16s_feat_subj_all, metabolome_feat_subj_all, \n",
    "                         indexes_val)\n",
    "    feat_gut_16s_test, feat_metabolome_test, gut_16s_feat_subj_test, metabolome_feat_subj_test=\\\n",
    "        split_by_indexes(feat_gut_16s_all, feat_metabolome_all, gut_16s_feat_subj_all, metabolome_feat_subj_all, \n",
    "                         indexes_test)\n",
    "    \n",
    "    X_train_g = np.array(feat_gut_16s_train)\n",
    "    y_train_g = gut_16s_feat_subj_train.loc[:,covariate].values\n",
    "    X_val_g = np.array(feat_gut_16s_val)\n",
    "    y_val_g = gut_16s_feat_subj_val.loc[:,covariate].values\n",
    "    X_test_g = np.array(feat_gut_16s_test)\n",
    "    y_test_g = gut_16s_feat_subj_test.loc[:,covariate].values\n",
    "\n",
    "    X_train_m = np.array(feat_metabolome_train)\n",
    "    y_train_m = metabolome_feat_subj_train.loc[:,covariate].values\n",
    "    X_val_m = np.array(feat_metabolome_val)\n",
    "    y_val_m = metabolome_feat_subj_val.loc[:,covariate].values\n",
    "    X_test_m = np.array(feat_metabolome_test)\n",
    "    y_test_m = metabolome_feat_subj_test.loc[:,covariate].values\n",
    "    \n",
    "    X_balanced_train_g, y_balanced_train_g = balanced_over_sampling(X_train_g, y_train_g)\n",
    "    X_balanced_train_m, y_balanced_train_m = balanced_over_sampling(X_train_m, y_train_m)\n",
    "    \n",
    "    if predict_method == 'logistic':\n",
    "        from sklearn.linear_model import LogisticRegression\n",
    "        logi_reg_g = LogisticRegression(random_state=random_seed, max_iter=1000, penalty='elasticnet', \n",
    "                                        solver='saga', l1_ratio=l1_ratio)\n",
    "        logi_reg_g.fit(X_balanced_train_g, y_balanced_train_g)\n",
    "        \n",
    "        pred_value_g_val = logi_reg_g.predict(X_val_g)\n",
    "        pred_prob_g_val = logi_reg_g.predict_proba(X_val_g)\n",
    "        accuracy_g_val = logi_reg_g.score(X_val_g, y_val_g)\n",
    "        \n",
    "        pred_value_g_test = logi_reg_g.predict(X_test_g)\n",
    "        pred_prob_g_test = logi_reg_g.predict_proba(X_test_g)\n",
    "        accuracy_g_test = logi_reg_g.score(X_test_g, y_test_g)\n",
    "        \n",
    "        logi_reg_m = LogisticRegression(random_state=random_seed, max_iter=1000, penalty='elasticnet', \n",
    "                                        solver='saga', l1_ratio=l1_ratio)\n",
    "        logi_reg_m.fit(X_balanced_train_m, y_balanced_train_m)\n",
    "        \n",
    "        pred_value_m_val = logi_reg_m.predict(X_val_m)\n",
    "        pred_prob_m_val = logi_reg_m.predict_proba(X_val_m)\n",
    "        accuracy_m_val = logi_reg_m.score(X_val_m, y_val_m)\n",
    "        \n",
    "        pred_value_m_test = logi_reg_m.predict(X_test_m)\n",
    "        pred_prob_m_test = logi_reg_m.predict_proba(X_test_m)\n",
    "        accuracy_m_test = logi_reg_m.score(X_test_m, y_test_m)\n",
    "        return (pred_value_g_val, pred_prob_g_val, accuracy_g_val), (pred_value_m_val, pred_prob_m_val, accuracy_m_val),\\\n",
    "               (pred_value_g_test, pred_prob_g_test, accuracy_g_test), (pred_value_m_test, pred_prob_m_test, accuracy_m_test)\n",
    "    \n",
    "    elif predict_method == 'elasticnet':\n",
    "        pass\n",
    "    "
   ]
  },
  {
   "cell_type": "markdown",
   "id": "young-breast",
   "metadata": {},
   "source": [
    "## Prediction on embeddings of simCLR"
   ]
  },
  {
   "cell_type": "code",
   "execution_count": 28,
   "id": "eastern-object",
   "metadata": {},
   "outputs": [
    {
     "name": "stdout",
     "output_type": "stream",
     "text": [
      "Validation:\n",
      "Prediction accuracy for microbiome embedding (simCLR; IR_IS_classification) = 71.95%\n",
      "Prediction accuracy for metabolome embedding (simCLR; IR_IS_classification) = 68.29%\n",
      "\n",
      "Testing:\n",
      "Prediction accuracy for microbiome embedding (simCLR; IR_IS_classification) = 68.67%\n",
      "Prediction accuracy for metabolome embedding (simCLR; IR_IS_classification) = 71.08%\n"
     ]
    }
   ],
   "source": [
    "predict_iris = prediction_embeddings_unsup_simCLR(covariate='IR_IS_classification', predict_method='logistic')\n",
    "print('Validation:\\nPrediction accuracy for microbiome embedding (simCLR; {0}) = {1:.2%}\\n'\n",
    "      'Prediction accuracy for metabolome embedding (simCLR; {0}) = {2:.2%}\\n\\n'\n",
    "      'Testing:\\nPrediction accuracy for microbiome embedding (simCLR; {0}) = {3:.2%}\\n'\n",
    "      'Prediction accuracy for metabolome embedding (simCLR; {0}) = {4:.2%}'.\\\n",
    "      format('IR_IS_classification', predict_iris[0][2], predict_iris[1][2], predict_iris[2][2], predict_iris[3][2]))"
   ]
  },
  {
   "cell_type": "code",
   "execution_count": 29,
   "id": "short-lithuania",
   "metadata": {},
   "outputs": [
    {
     "name": "stdout",
     "output_type": "stream",
     "text": [
      "Validation:\n",
      "Prediction accuracy for microbiome embedding (simCLR; Sex) = 56.48%\n",
      "Prediction accuracy for metabolome embedding (simCLR; Sex) = 63.89%\n",
      "\n",
      "Testing:\n",
      "Prediction accuracy for microbiome embedding (simCLR; Sex) = 67.89%\n",
      "Prediction accuracy for metabolome embedding (simCLR; Sex) = 66.06%\n"
     ]
    }
   ],
   "source": [
    "predict_sex = prediction_embeddings_unsup_simCLR(covariate='Sex', predict_method='logistic')\n",
    "print('Validation:\\nPrediction accuracy for microbiome embedding (simCLR; {0}) = {1:.2%}\\n'\n",
    "      'Prediction accuracy for metabolome embedding (simCLR; {0}) = {2:.2%}\\n\\n'\n",
    "      'Testing:\\nPrediction accuracy for microbiome embedding (simCLR; {0}) = {3:.2%}\\n'\n",
    "      'Prediction accuracy for metabolome embedding (simCLR; {0}) = {4:.2%}'.\\\n",
    "      format('Sex', predict_sex[0][2], predict_sex[1][2], predict_sex[2][2], predict_sex[3][2]))"
   ]
  },
  {
   "cell_type": "code",
   "execution_count": 30,
   "id": "c383beff",
   "metadata": {},
   "outputs": [
    {
     "name": "stdout",
     "output_type": "stream",
     "text": [
      "Validation:\n",
      "Prediction accuracy for microbiome embedding (simCLR; Race) = 53.27%\n",
      "Prediction accuracy for metabolome embedding (simCLR; Race) = 53.27%\n",
      "\n",
      "Testing:\n",
      "Prediction accuracy for microbiome embedding (simCLR; Race) = 49.54%\n",
      "Prediction accuracy for metabolome embedding (simCLR; Race) = 37.61%\n"
     ]
    }
   ],
   "source": [
    "predict_race = prediction_embeddings_unsup_simCLR(covariate='Race', predict_method='logistic')\n",
    "print('Validation:\\nPrediction accuracy for microbiome embedding (simCLR; {0}) = {1:.2%}\\n'\n",
    "      'Prediction accuracy for metabolome embedding (simCLR; {0}) = {2:.2%}\\n\\n'\n",
    "      'Testing:\\nPrediction accuracy for microbiome embedding (simCLR; {0}) = {3:.2%}\\n'\n",
    "      'Prediction accuracy for metabolome embedding (simCLR; {0}) = {4:.2%}'.\\\n",
    "      format('Race', predict_race[0][2], predict_race[1][2], predict_race[2][2], predict_race[3][2]))"
   ]
  },
  {
   "cell_type": "code",
   "execution_count": null,
   "id": "2d588b53",
   "metadata": {},
   "outputs": [],
   "source": []
  }
 ],
 "metadata": {
  "kernelspec": {
   "display_name": "Python 3",
   "language": "python",
   "name": "python3"
  },
  "language_info": {
   "codemirror_mode": {
    "name": "ipython",
    "version": 3
   },
   "file_extension": ".py",
   "mimetype": "text/x-python",
   "name": "python",
   "nbconvert_exporter": "python",
   "pygments_lexer": "ipython3",
   "version": "3.8.8"
  }
 },
 "nbformat": 4,
 "nbformat_minor": 5
}
